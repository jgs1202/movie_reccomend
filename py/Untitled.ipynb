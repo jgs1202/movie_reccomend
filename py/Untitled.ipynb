{
 "cells": [
  {
   "cell_type": "code",
   "execution_count": 36,
   "metadata": {},
   "outputs": [
    {
     "name": "stdout",
     "output_type": "stream",
     "text": [
      "Requirement already satisfied: mecab-python3 in /Users/Nozomi/opt/anaconda3/envs/env1/lib/python3.7/site-packages (0.996.5)\n",
      "Collecting sqlalchemy\n",
      "  Downloading SQLAlchemy-1.3.16-cp37-cp37m-macosx_10_13_x86_64.whl (1.2 MB)\n",
      "\u001b[K     |████████████████████████████████| 1.2 MB 8.3 MB/s eta 0:00:01\n",
      "\u001b[?25hInstalling collected packages: sqlalchemy\n",
      "Successfully installed sqlalchemy-1.3.16\n"
     ]
    }
   ],
   "source": [
    "!pip install mecab-python3\n",
    "!pip install sqlalchemy\n",
    "import gensim\n",
    "import MeCab\n",
    "import numpy as np\n",
    "from scipy import spatial\n",
    "from sqlite3 import connect, Row\n",
    "import sys\n",
    "from statistics import mean\n",
    "import numpy as np"
   ]
  },
  {
   "cell_type": "code",
   "execution_count": 13,
   "metadata": {},
   "outputs": [],
   "source": [
    "sentence = '夏、海沿いの静かな町。幸せな夏休みを送るはずだった瑞穂の親友が殺された。瑞穂は密室の謎に叔父である弁護士とともに挑む。その犯人とは。'\n",
    "targets = []"
   ]
  },
  {
   "cell_type": "code",
   "execution_count": 14,
   "metadata": {},
   "outputs": [],
   "source": [
    "targets.append('夏、海沿静かな町。幸せな送るはずだっ穂の親友が殺された。密室の謎に弁護士とともに挑む。その犯人とは。'\n",
    ")\n",
    "targets.append('静かな町。幸せな夏休みれた。瑞穂は密室の謎に叔父である弁ともに挑む。その犯人とは。'\n",
    ")\n",
    "targets.append('夏、海沿いの静かな町。幸せな夏休みを送るはずだった。瑞穂は密室の謎に叔父である弁護士とともに挑む。その犯人とは。'\n",
    ")"
   ]
  },
  {
   "cell_type": "code",
   "execution_count": 15,
   "metadata": {},
   "outputs": [
    {
     "name": "stdout",
     "output_type": "stream",
     "text": [
      "loading trained model...\n",
      "loaded\n"
     ]
    }
   ],
   "source": [
    "print('loading trained model...')\n",
    "word2vec_model = gensim.models.KeyedVectors.load_word2vec_format('model.vec', binary=False)\n",
    "print('loaded')\n",
    "mecab = MeCab.Tagger(\"/usr/local/lib/mecab/dic/mecab-ipadic-neologd\")"
   ]
  },
  {
   "cell_type": "code",
   "execution_count": 42,
   "metadata": {},
   "outputs": [
    {
     "name": "stdout",
     "output_type": "stream",
     "text": [
      "<Swig Object of type 'MeCab::Tagger *' at 0x1a25bdaa70>\n"
     ]
    }
   ],
   "source": [
    "print(mecab)"
   ]
  },
  {
   "cell_type": "code",
   "execution_count": 18,
   "metadata": {},
   "outputs": [],
   "source": [
    "def avg_feature_vector(sentence, model, num_features):\n",
    "    words = mecab.parse(sentence).replace(' \\n', '').split()  # mecabの分かち書きでは最後に改行(\\n)が出力されてしまうため、除去\n",
    "    words = [words[i] for i in range(len(words)) if i % 2 == 0]\n",
    "    feature_vec = np.zeros((num_features,), dtype=\"float32\")  # 特徴ベクトルの入れ物を初期化\n",
    "    exceptions = 0\n",
    "    for word in words:\n",
    "        try:\n",
    "            feature_vec = np.add(feature_vec, model[word])\n",
    "        except:\n",
    "            exceptions += 1\n",
    "    if len(words) - exceptions > 0:\n",
    "        feature_vec = np.divide(feature_vec, len(word) - exceptions)\n",
    "    return feature_vec\n",
    "\n",
    "def mecab_similarity(sentence_1, sentence_2):\n",
    "    num_features = 300\n",
    "    sentence_1_avg_vector = avg_feature_vector(sentence_1, word2vec_model, num_features)\n",
    "    sentence_2_avg_vector = avg_feature_vector(sentence_2, word2vec_model, num_features)\n",
    "    # １からベクトル間の距離を引いてあげることで、コサイン類似度を計算\n",
    "    return 1 - spatial.distance.cosine(sentence_1_avg_vector, sentence_2_avg_vector)"
   ]
  },
  {
   "cell_type": "code",
   "execution_count": 43,
   "metadata": {},
   "outputs": [
    {
     "name": "stdout",
     "output_type": "stream",
     "text": [
      "[{'index': 0, 'value': 0.9605730056762696}, {'index': 1, 'value': 0.9224912643432617}, {'index': 2, 'value': 0.9855925083160401}]\n"
     ]
    }
   ],
   "source": [
    "_similarities = [{\"index\":i, \"value\":0} for i in range(len(targets))]\n",
    "splited_input = sentence.split('。')\n",
    "for movie_num, target in enumerate(targets):\n",
    "    _similarities_per_movie = []\n",
    "    splited_target = target.split('。')\n",
    "    for i in range(len(splited_input)):\n",
    "        try:\n",
    "            _similarities_per_movie.append(mecab_similarity(splited_input[i], splited_target[i]))\n",
    "        except:\n",
    "            pass\n",
    "    _similarities[movie_num]['value'] = mean(_similarities_per_movie)\n",
    "print(_similarities)"
   ]
  },
  {
   "cell_type": "code",
   "execution_count": 44,
   "metadata": {},
   "outputs": [
    {
     "data": {
      "text/plain": [
       "[{'index': 2, 'value': 0.9855925083160401},\n",
       " {'index': 0, 'value': 0.9605730056762696},\n",
       " {'index': 1, 'value': 0.9224912643432617}]"
      ]
     },
     "execution_count": 44,
     "metadata": {},
     "output_type": "execute_result"
    }
   ],
   "source": [
    "from operator import itemgetter\n",
    "sorted(_similarities, key=itemgetter('value'), reverse=True)"
   ]
  },
  {
   "cell_type": "code",
   "execution_count": null,
   "metadata": {},
   "outputs": [],
   "source": []
  }
 ],
 "metadata": {
  "kernelspec": {
   "display_name": "Python 3",
   "language": "python",
   "name": "python3"
  },
  "language_info": {
   "codemirror_mode": {
    "name": "ipython",
    "version": 3
   },
   "file_extension": ".py",
   "mimetype": "text/x-python",
   "name": "python",
   "nbconvert_exporter": "python",
   "pygments_lexer": "ipython3",
   "version": "3.7.7"
  }
 },
 "nbformat": 4,
 "nbformat_minor": 4
}
